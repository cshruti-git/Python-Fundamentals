{
 "cells": [
  {
   "cell_type": "markdown",
   "id": "382aeee9",
   "metadata": {},
   "source": [
    "# loop"
   ]
  },
  {
   "cell_type": "code",
   "execution_count": null,
   "id": "c924ad25",
   "metadata": {},
   "outputs": [],
   "source": [
    "l = [34,4,6,7,887,56,97,9]"
   ]
  },
  {
   "cell_type": "code",
   "execution_count": null,
   "id": "51626602",
   "metadata": {},
   "outputs": [],
   "source": [
    "l"
   ]
  },
  {
   "cell_type": "markdown",
   "id": "250ae3f9",
   "metadata": {},
   "source": [
    " # loop : for"
   ]
  },
  {
   "cell_type": "code",
   "execution_count": null,
   "id": "f0bf4f6f",
   "metadata": {},
   "outputs": [],
   "source": [
    "for <index> in <iterator>:\n",
    "    print(index)"
   ]
  },
  {
   "cell_type": "code",
   "execution_count": null,
   "id": "1ecd617c",
   "metadata": {},
   "outputs": [],
   "source": [
    "len(l)"
   ]
  },
  {
   "cell_type": "code",
   "execution_count": null,
   "id": "861226a9",
   "metadata": {},
   "outputs": [],
   "source": [
    " for i in range(0, 5):\n",
    "        print(i)"
   ]
  },
  {
   "cell_type": "code",
   "execution_count": null,
   "id": "42e41600",
   "metadata": {},
   "outputs": [],
   "source": [
    "for i in range(0, 8):\n",
    "    print(l[i])"
   ]
  },
  {
   "cell_type": "code",
   "execution_count": null,
   "id": "068b620f",
   "metadata": {},
   "outputs": [],
   "source": [
    "for i in range(0, len(l)):\n",
    "    print(l[i])"
   ]
  },
  {
   "cell_type": "markdown",
   "id": "ca655e05",
   "metadata": {},
   "source": [
    "# sum of number in list"
   ]
  },
  {
   "cell_type": "code",
   "execution_count": null,
   "id": "56a91d41",
   "metadata": {},
   "outputs": [],
   "source": [
    "l"
   ]
  },
  {
   "cell_type": "code",
   "execution_count": null,
   "id": "5af20752",
   "metadata": {},
   "outputs": [],
   "source": [
    "sum = 0 \n",
    "\n",
    "for i in range(0, len(l)):\n",
    "    sum = sum + l[i]\n",
    "\n",
    "print(sum)"
   ]
  },
  {
   "cell_type": "markdown",
   "id": "9f14ee85",
   "metadata": {},
   "source": [
    "# print the pattern"
   ]
  },
  {
   "cell_type": "code",
   "execution_count": null,
   "id": "ee2a4213",
   "metadata": {},
   "outputs": [],
   "source": [
    "word = \"india\"\n",
    "\n",
    "for letter in word:\n",
    "    print(letter)"
   ]
  },
  {
   "cell_type": "markdown",
   "id": "ac259399",
   "metadata": {},
   "source": [
    "# multiplication table"
   ]
  },
  {
   "cell_type": "code",
   "execution_count": null,
   "id": "818c11b2",
   "metadata": {},
   "outputs": [],
   "source": [
    "n = 5\n",
    "for i in range(1, 11):\n",
    "    print(f\" {n} x {i} = {n*i}\")"
   ]
  },
  {
   "cell_type": "code",
   "execution_count": null,
   "id": "cc90eb67",
   "metadata": {},
   "outputs": [],
   "source": [
    "n = 5 \n",
    "i = 3\n",
    "print(f\"rguregfkjebdfu: {n} {i}\")"
   ]
  },
  {
   "cell_type": "markdown",
   "id": "76b1a2a4",
   "metadata": {},
   "source": [
    " # Factorial of number"
   ]
  },
  {
   "cell_type": "code",
   "execution_count": 3,
   "id": "426c0033",
   "metadata": {},
   "outputs": [
    {
     "name": "stdout",
     "output_type": "stream",
     "text": [
      "3628800\n"
     ]
    }
   ],
   "source": [
    "result = 1\n",
    "n = 10\n",
    "\n",
    "for i in range(1, n+1):\n",
    "    result = result * i\n",
    "    \n",
    "print(result)"
   ]
  },
  {
   "cell_type": "markdown",
   "id": "828d91d6",
   "metadata": {},
   "source": [
    "# print the pattern"
   ]
  },
  {
   "cell_type": "code",
   "execution_count": 5,
   "id": "8e5461d0",
   "metadata": {},
   "outputs": [
    {
     "name": "stdout",
     "output_type": "stream",
     "text": [
      " * \n",
      " *  * \n",
      " *  *  * \n",
      " *  *  *  * \n",
      " *  *  *  *  * \n"
     ]
    }
   ],
   "source": [
    "n = 5\n",
    "i = 1\n",
    "\n",
    "while i <=n:\n",
    "    print(\" * \" * i)\n",
    "    \n",
    "    i = i + 1"
   ]
  },
  {
   "cell_type": "code",
   "execution_count": 15,
   "id": "9ae00b31",
   "metadata": {},
   "outputs": [
    {
     "name": "stdout",
     "output_type": "stream",
     "text": [
      " *  *  *  *  * \n",
      " *  *  *  * \n",
      " *  *  * \n",
      " *  * \n",
      " * \n"
     ]
    }
   ],
   "source": [
    "n = 5 \n",
    "i = n\n",
    "\n",
    "while i >= 1:\n",
    "    print(\" * \" * i)\n",
    "    \n",
    "    i = i - 1"
   ]
  },
  {
   "cell_type": "code",
   "execution_count": 17,
   "id": "42b4db61",
   "metadata": {},
   "outputs": [
    {
     "name": "stdout",
     "output_type": "stream",
     "text": [
      " * \n",
      " *  * \n",
      " *  *  * \n",
      " *  *  *  * \n",
      " *  *  *  *  * \n",
      " *  *  *  * \n",
      " *  *  * \n",
      " *  * \n",
      " * \n"
     ]
    }
   ],
   "source": [
    "n = 5\n",
    "i = 1\n",
    "\n",
    "while i <=n:\n",
    "    print(\" * \" * i)\n",
    "    \n",
    "    i = i + 1\n",
    "n = 4 \n",
    "i = n\n",
    "\n",
    "while i >= 1:\n",
    "    print(\" * \" * i)\n",
    "    \n",
    "    i = i - 1"
   ]
  },
  {
   "cell_type": "markdown",
   "id": "da6a79cb",
   "metadata": {},
   "source": [
    "# pattern print"
   ]
  },
  {
   "cell_type": "code",
   "execution_count": 24,
   "id": "f2bea19e",
   "metadata": {},
   "outputs": [
    {
     "name": "stdout",
     "output_type": "stream",
     "text": [
      "s\n",
      "h\n",
      "r\n",
      "u\n",
      "t\n",
      "i\n"
     ]
    }
   ],
   "source": [
    "string = \"shruti\"\n",
    "index = 0\n",
    "\n",
    "while index < len(string):\n",
    "    print(string[index])\n",
    "    \n",
    "    index += 1"
   ]
  },
  {
   "cell_type": "code",
   "execution_count": 1,
   "id": "45b001d1",
   "metadata": {},
   "outputs": [
    {
     "name": "stdout",
     "output_type": "stream",
     "text": [
      "Enter the number: 5\n",
      "5\n",
      "4\n",
      "3\n",
      "2\n",
      "1\n",
      "0\n"
     ]
    }
   ],
   "source": [
    "num = int(input(\"Enter the number: \"))\n",
    "\n",
    "while num >= 0:\n",
    "    print(num)\n",
    "    \n",
    "    num -= 1"
   ]
  },
  {
   "cell_type": "code",
   "execution_count": 2,
   "id": "11a03a05",
   "metadata": {},
   "outputs": [
    {
     "name": "stdout",
     "output_type": "stream",
     "text": [
      "15\n",
      "16\n",
      "17\n",
      "18\n",
      "19\n"
     ]
    }
   ],
   "source": [
    "for i in range(15, 20):\n",
    "    print(i)"
   ]
  },
  {
   "cell_type": "code",
   "execution_count": 3,
   "id": "42cbea45",
   "metadata": {},
   "outputs": [],
   "source": [
    "  def test():\n",
    "        print(\"hello\")"
   ]
  },
  {
   "cell_type": "code",
   "execution_count": 4,
   "id": "4fb54b41",
   "metadata": {},
   "outputs": [
    {
     "name": "stdout",
     "output_type": "stream",
     "text": [
      "hello\n"
     ]
    }
   ],
   "source": [
    "test()"
   ]
  },
  {
   "cell_type": "code",
   "execution_count": 5,
   "id": "ea10a7da",
   "metadata": {},
   "outputs": [
    {
     "data": {
      "text/plain": [
       "6"
      ]
     },
     "execution_count": 5,
     "metadata": {},
     "output_type": "execute_result"
    }
   ],
   "source": [
    "def test():\n",
    "    \n",
    "    sum = 1 + 5\n",
    "    \n",
    "    return sum\n",
    "test()"
   ]
  },
  {
   "cell_type": "code",
   "execution_count": 6,
   "id": "de6de71f",
   "metadata": {},
   "outputs": [
    {
     "data": {
      "text/plain": [
       "function"
      ]
     },
     "execution_count": 6,
     "metadata": {},
     "output_type": "execute_result"
    }
   ],
   "source": [
    "type(test)"
   ]
  },
  {
   "cell_type": "code",
   "execution_count": 7,
   "id": "4f465add",
   "metadata": {},
   "outputs": [],
   "source": [
    "result = test()"
   ]
  },
  {
   "cell_type": "code",
   "execution_count": 8,
   "id": "908bb368",
   "metadata": {},
   "outputs": [
    {
     "name": "stdout",
     "output_type": "stream",
     "text": [
      "6\n"
     ]
    }
   ],
   "source": [
    "print(result)"
   ]
  },
  {
   "cell_type": "code",
   "execution_count": 9,
   "id": "e82a0c48",
   "metadata": {},
   "outputs": [
    {
     "data": {
      "text/plain": [
       "int"
      ]
     },
     "execution_count": 9,
     "metadata": {},
     "output_type": "execute_result"
    }
   ],
   "source": [
    "type(result)"
   ]
  },
  {
   "cell_type": "code",
   "execution_count": 1,
   "id": "1b3ff3e8",
   "metadata": {},
   "outputs": [
    {
     "name": "stdout",
     "output_type": "stream",
     "text": [
      "[1, 2, 3]\n"
     ]
    }
   ],
   "source": [
    " def test():\n",
    "        \n",
    "        li = [1, 2, 3]\n",
    "        \n",
    "        return li\n",
    "result = test()\n",
    "print(result)"
   ]
  },
  {
   "cell_type": "code",
   "execution_count": 2,
   "id": "f20a178e",
   "metadata": {},
   "outputs": [
    {
     "data": {
      "text/plain": [
       "3"
      ]
     },
     "execution_count": 2,
     "metadata": {},
     "output_type": "execute_result"
    }
   ],
   "source": [
    "len(result)"
   ]
  },
  {
   "cell_type": "code",
   "execution_count": 3,
   "id": "a93bff09",
   "metadata": {},
   "outputs": [
    {
     "data": {
      "text/plain": [
       "'atharva'"
      ]
     },
     "execution_count": 3,
     "metadata": {},
     "output_type": "execute_result"
    }
   ],
   "source": [
    "def test():\n",
    "    \n",
    "    name = \"atharva\"\n",
    "    \n",
    "    return name\n",
    "test()"
   ]
  },
  {
   "cell_type": "code",
   "execution_count": 6,
   "id": "20709a98",
   "metadata": {},
   "outputs": [],
   "source": [
    "name = test()"
   ]
  },
  {
   "cell_type": "code",
   "execution_count": 7,
   "id": "3d4ff404",
   "metadata": {},
   "outputs": [
    {
     "data": {
      "text/plain": [
       "'atharva'"
      ]
     },
     "execution_count": 7,
     "metadata": {},
     "output_type": "execute_result"
    }
   ],
   "source": [
    "name"
   ]
  },
  {
   "cell_type": "code",
   "execution_count": 11,
   "id": "ea660da8",
   "metadata": {},
   "outputs": [
    {
     "data": {
      "text/plain": [
       "'atharva chaudhari'"
      ]
     },
     "execution_count": 11,
     "metadata": {},
     "output_type": "execute_result"
    }
   ],
   "source": [
    "test() + \" chaudhari\""
   ]
  },
  {
   "cell_type": "code",
   "execution_count": 12,
   "id": "778a83f0",
   "metadata": {},
   "outputs": [],
   "source": [
    "def test():\n",
    "    \n",
    "    return 35,78,24,8"
   ]
  },
  {
   "cell_type": "code",
   "execution_count": 13,
   "id": "b9c2f037",
   "metadata": {},
   "outputs": [
    {
     "data": {
      "text/plain": [
       "(35, 78, 24, 8)"
      ]
     },
     "execution_count": 13,
     "metadata": {},
     "output_type": "execute_result"
    }
   ],
   "source": [
    "test()"
   ]
  },
  {
   "cell_type": "code",
   "execution_count": 18,
   "id": "63908b53",
   "metadata": {},
   "outputs": [
    {
     "data": {
      "text/plain": [
       "[34, 75, 3]"
      ]
     },
     "execution_count": 18,
     "metadata": {},
     "output_type": "execute_result"
    }
   ],
   "source": [
    "def test():\n",
    "    return[34,75,3]\n",
    "\n",
    "test()"
   ]
  },
  {
   "cell_type": "code",
   "execution_count": 19,
   "id": "aa8eb270",
   "metadata": {},
   "outputs": [],
   "source": [
    "a,b,c = test()"
   ]
  },
  {
   "cell_type": "code",
   "execution_count": 20,
   "id": "f04ea755",
   "metadata": {},
   "outputs": [
    {
     "data": {
      "text/plain": [
       "34"
      ]
     },
     "execution_count": 20,
     "metadata": {},
     "output_type": "execute_result"
    }
   ],
   "source": [
    "a\n"
   ]
  },
  {
   "cell_type": "code",
   "execution_count": 21,
   "id": "095e663b",
   "metadata": {},
   "outputs": [
    {
     "data": {
      "text/plain": [
       "75"
      ]
     },
     "execution_count": 21,
     "metadata": {},
     "output_type": "execute_result"
    }
   ],
   "source": [
    "b"
   ]
  },
  {
   "cell_type": "code",
   "execution_count": 22,
   "id": "9673f56e",
   "metadata": {},
   "outputs": [
    {
     "data": {
      "text/plain": [
       "3"
      ]
     },
     "execution_count": 22,
     "metadata": {},
     "output_type": "execute_result"
    }
   ],
   "source": [
    "c"
   ]
  },
  {
   "cell_type": "code",
   "execution_count": 23,
   "id": "b60b4a9c",
   "metadata": {},
   "outputs": [
    {
     "data": {
      "text/plain": [
       "22741.5"
      ]
     },
     "execution_count": 23,
     "metadata": {},
     "output_type": "execute_result"
    }
   ],
   "source": [
    "def test():\n",
    "    \n",
    "    result = 13/2*45-4+22453\n",
    "    \n",
    "    return result\n",
    "test()"
   ]
  },
  {
   "cell_type": "code",
   "execution_count": 28,
   "id": "2886ce5d",
   "metadata": {},
   "outputs": [
    {
     "data": {
      "text/plain": [
       "55"
      ]
     },
     "execution_count": 28,
     "metadata": {},
     "output_type": "execute_result"
    }
   ],
   "source": [
    "def test():\n",
    "\n",
    "    l = [1,2,3,4,5,6,7,8,9,10]\n",
    "    \n",
    "    sum = 0\n",
    "    \n",
    "    for i in l:\n",
    "        sum = sum + i\n",
    "    \n",
    "    return sum \n",
    "test()"
   ]
  },
  {
   "cell_type": "code",
   "execution_count": 34,
   "id": "cd47ecf9",
   "metadata": {},
   "outputs": [
    {
     "data": {
      "text/plain": [
       "55"
      ]
     },
     "execution_count": 34,
     "metadata": {},
     "output_type": "execute_result"
    }
   ],
   "source": [
    "def test():\n",
    "    \n",
    "    l = [1,2,3,4,5, 'india', 'pune', 6, 7, 8, 9, 10]\n",
    "    \n",
    "    sum = 0 \n",
    "    \n",
    "    for i in l:\n",
    "        \n",
    "        if type(i) == int:\n",
    "            \n",
    "            sum += i\n",
    "        \n",
    "    return sum\n",
    "\n",
    "test()"
   ]
  },
  {
   "cell_type": "code",
   "execution_count": 3,
   "id": "82b4d5e8",
   "metadata": {},
   "outputs": [
    {
     "data": {
      "text/plain": [
       "29"
      ]
     },
     "execution_count": 3,
     "metadata": {},
     "output_type": "execute_result"
    }
   ],
   "source": [
    "def test(mylist):\n",
    "\n",
    "    sum = 0\n",
    "    \n",
    "    for i in mylist:\n",
    "        \n",
    "        if type(i) == int:\n",
    "            \n",
    "            sum += i\n",
    "            \n",
    "    return sum\n",
    "test(mylist)"
   ]
  },
  {
   "cell_type": "code",
   "execution_count": 1,
   "id": "64481684",
   "metadata": {},
   "outputs": [],
   "source": [
    "mylist = [1,2,4, \"erfergergr\", \"dhxfyuedfgyu\", 3, 4,7,8]"
   ]
  },
  {
   "cell_type": "code",
   "execution_count": 4,
   "id": "22c824f1",
   "metadata": {},
   "outputs": [
    {
     "data": {
      "text/plain": [
       "29"
      ]
     },
     "execution_count": 4,
     "metadata": {},
     "output_type": "execute_result"
    }
   ],
   "source": [
    "test(mylist)"
   ]
  },
  {
   "cell_type": "code",
   "execution_count": 10,
   "id": "fd47da67",
   "metadata": {},
   "outputs": [],
   "source": [
    "def no_sum(a, b):\n",
    "    \n",
    "    sum = a + b\n",
    "    \n",
    "    return sum\n"
   ]
  },
  {
   "cell_type": "code",
   "execution_count": 11,
   "id": "e80b6980",
   "metadata": {},
   "outputs": [
    {
     "data": {
      "text/plain": [
       "410"
      ]
     },
     "execution_count": 11,
     "metadata": {},
     "output_type": "execute_result"
    }
   ],
   "source": [
    "a = 35\n",
    "b = 375\n",
    "\n",
    "no_sum(a, b)"
   ]
  },
  {
   "cell_type": "code",
   "execution_count": 12,
   "id": "3fea5d70",
   "metadata": {},
   "outputs": [
    {
     "data": {
      "text/plain": [
       "9"
      ]
     },
     "execution_count": 12,
     "metadata": {},
     "output_type": "execute_result"
    }
   ],
   "source": [
    "len(mylist)"
   ]
  },
  {
   "cell_type": "code",
   "execution_count": 9,
   "id": "5c1eb09f",
   "metadata": {},
   "outputs": [
    {
     "name": "stdout",
     "output_type": "stream",
     "text": [
      "[1, 2, 3, 4, 'a', 'b', 'c', 5]\n"
     ]
    }
   ],
   "source": [
    "l = [1, 2, 3, 4, 'a', 'b', 'c', 5]\n",
    "\n",
    "print(l)"
   ]
  },
  {
   "cell_type": "code",
   "execution_count": 10,
   "id": "247b7e7d",
   "metadata": {},
   "outputs": [],
   "source": [
    "def test(mylist):\n",
    "    \n",
    "    li_int = []\n",
    "    li_str = []\n",
    "    \n",
    "    for i in mylist:\n",
    "        \n",
    "        if type(i) == str:\n",
    "            li_str.append(i)\n",
    "            \n",
    "        if type(i) == int:\n",
    "            li_int.append(i)\n",
    "            \n",
    "    return li_str, li_int\n",
    "    "
   ]
  },
  {
   "cell_type": "code",
   "execution_count": 11,
   "id": "5dee2188",
   "metadata": {},
   "outputs": [
    {
     "data": {
      "text/plain": [
       "[1, 2, 3, 4, 'a', 'b', 'c', 5]"
      ]
     },
     "execution_count": 11,
     "metadata": {},
     "output_type": "execute_result"
    }
   ],
   "source": [
    "l\n"
   ]
  },
  {
   "cell_type": "code",
   "execution_count": 12,
   "id": "93e8deb1",
   "metadata": {},
   "outputs": [],
   "source": [
    "li_str, li_int = test(l)"
   ]
  },
  {
   "cell_type": "code",
   "execution_count": 13,
   "id": "c870f94d",
   "metadata": {},
   "outputs": [
    {
     "data": {
      "text/plain": [
       "['a', 'b', 'c']"
      ]
     },
     "execution_count": 13,
     "metadata": {},
     "output_type": "execute_result"
    }
   ],
   "source": [
    "li_str"
   ]
  },
  {
   "cell_type": "code",
   "execution_count": 14,
   "id": "351092a4",
   "metadata": {},
   "outputs": [
    {
     "data": {
      "text/plain": [
       "[1, 2, 3, 4, 5]"
      ]
     },
     "execution_count": 14,
     "metadata": {},
     "output_type": "execute_result"
    }
   ],
   "source": [
    "li_int"
   ]
  },
  {
   "cell_type": "code",
   "execution_count": null,
   "id": "757ad2d3",
   "metadata": {},
   "outputs": [],
   "source": []
  }
 ],
 "metadata": {
  "kernelspec": {
   "display_name": "Python 3 (ipykernel)",
   "language": "python",
   "name": "python3"
  },
  "language_info": {
   "codemirror_mode": {
    "name": "ipython",
    "version": 3
   },
   "file_extension": ".py",
   "mimetype": "text/x-python",
   "name": "python",
   "nbconvert_exporter": "python",
   "pygments_lexer": "ipython3",
   "version": "3.9.13"
  }
 },
 "nbformat": 4,
 "nbformat_minor": 5
}
